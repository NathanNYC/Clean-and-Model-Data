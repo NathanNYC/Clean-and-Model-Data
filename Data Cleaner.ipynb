{
 "cells": [
  {
   "cell_type": "code",
   "execution_count": null,
   "metadata": {
    "collapsed": true
   },
   "outputs": [],
   "source": [
    "#clean your data. Historical (~20 year data) on two commodities, and share price for a company. Use prior to \n",
    "#running a multiple regression, by lining-up the dates, and removing non-usable or missing data points. \n",
    "\n",
    "import pandas as pd\n",
    "import numpy as np\n",
    "import csv \n",
    "\n",
    "\n",
    "\n",
    "data = pd.read_csv('C:/Users/nsw26/Desktop/YourDataFile.csv') \n",
    "\n",
    "\n",
    "df1 = data[['Date','IndependentVariable']]\n",
    "df2 = data[['Date.1','Dependent1']]\n",
    "df3 = data[['Date.2','Dependent2']]\n",
    "\n",
    "df_out = df1.merge(df2, how='outer', left_on='Date', right_on='Date.1')\n",
    "df_out = df_out.merge(df3, how='outer', left_on='Date.1', right_on='Date.2')\n",
    "df_out = df_out[df_out['Date'].notnull()]\n",
    "df_out = df_out[df_out['Dependent2'].notnull()]\n",
    "df_out.dropna(inplace=True)\n",
    "\n",
    "print(df_out.head())\n",
    "\n",
    "df_out.to_csv ('C:/Users/nsw26/Desktop/CleanedVersionOfYourDataFile.csv', index = False, header=True)\n",
    "\n",
    "\n"
   ]
  }
 ],
 "metadata": {
  "kernelspec": {
   "display_name": "Python 3",
   "language": "python",
   "name": "python3"
  },
  "language_info": {
   "codemirror_mode": {
    "name": "ipython",
    "version": 3
   },
   "file_extension": ".py",
   "mimetype": "text/x-python",
   "name": "python",
   "nbconvert_exporter": "python",
   "pygments_lexer": "ipython3",
   "version": "3.6.2"
  }
 },
 "nbformat": 4,
 "nbformat_minor": 2
}
