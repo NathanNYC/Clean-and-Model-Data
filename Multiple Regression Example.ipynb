{
 "cells": [
  {
   "cell_type": "code",
   "execution_count": 12,
   "metadata": {},
   "outputs": [
    {
     "name": "stdout",
     "output_type": "stream",
     "text": [
      "                            OLS Regression Results                            \n",
      "==============================================================================\n",
      "Dep. Variable:               Dependen   R-squared:                       0.322\n",
      "Model:                            OLS   Adj. R-squared:                  0.322\n",
      "Method:                 Least Squares   F-statistic:                     1211.\n",
      "Date:                Tue, 07 Jul 2020   Prob (F-statistic):               0.00\n",
      "Time:                        16:01:04   Log-Likelihood:                -8933.8\n",
      "No. Observations:                5097   AIC:                         1.787e+04\n",
      "Df Residuals:                    5094   BIC:                         1.789e+04\n",
      "Df Model:                           2                                         \n",
      "Covariance Type:            nonrobust                                         \n",
      "=================================================================================\n",
      "                    coef    std err          t      P>|t|      [0.025      0.975]\n",
      "---------------------------------------------------------------------------------\n",
      "Intercept         0.7769      0.100      7.782      0.000       0.581       0.973\n",
      "MilkFutures      -0.0355      0.008     -4.329      0.000      -0.052      -0.019\n",
      "CattleFutures     0.0426      0.001     39.893      0.000       0.041       0.045\n",
      "==============================================================================\n",
      "Omnibus:                      194.836   Durbin-Watson:                   0.022\n",
      "Prob(Omnibus):                  0.000   Jarque-Bera (JB):              156.947\n",
      "Skew:                           0.350   Prob(JB):                     8.30e-35\n",
      "Kurtosis:                       2.501   Cond. No.                         545.\n",
      "==============================================================================\n",
      "\n",
      "Warnings:\n",
      "[1] Standard Errors assume that the covariance matrix of the errors is correctly specified.\n",
      "Odds ratios:\n",
      "Intercept        2.174616\n",
      "MilkFutures      0.965076\n",
      "CattleFutures    1.043547\n",
      "dtype: float64\n"
     ]
    },
    {
     "data": {
      "image/png": "[encoded data removed]",
      "text/plain": [
       "<matplotlib.figure.Figure at 0x20cfa03b780>"
      ]
     },
     "metadata": {},
     "output_type": "display_data"
    }
   ],
   "source": [
    "import pandas as pd\n",
    "import numpy as np\n",
    "import csv \n",
    "import matplotlib as plt \n",
    "import statsmodels.formula.api as smf \n",
    "import matplotlib.pyplot as plt \n",
    "\n",
    "\n",
    "df_in = pd.read_csv('C:/Users/nsw26/Desktop/YourDataFile.csv') \n",
    "\n",
    "\n",
    "model = smf.ols(formula='DependentVariable ~ Independent1 + Independent2',data=df_in).fit()\n",
    "print(model.summary())\n",
    "\n",
    "odds_ratios=np.exp(model.params)\n",
    "print(\"Odds ratios:\")\n",
    "print(odds_ratios)\n",
    "\n",
    "\n",
    "plt.plot(df_in['DependentVariable'],'o',df_in['Independent1'],df_in['Independent2'])\n",
    "plt.legend(loc='best')\n",
    "plt.show()\n",
    "\n",
    "\n"
   ]
  }
 ],
 "metadata": {
  "kernelspec": {
   "display_name": "Python 3",
   "language": "python",
   "name": "python3"
  },
  "language_info": {
   "codemirror_mode": {
    "name": "ipython",
    "version": 3
   },
   "file_extension": ".py",
   "mimetype": "text/x-python",
   "name": "python",
   "nbconvert_exporter": "python",
   "pygments_lexer": "ipython3",
   "version": "3.6.2"
  }
 },
 "nbformat": 4,
 "nbformat_minor": 2
}
